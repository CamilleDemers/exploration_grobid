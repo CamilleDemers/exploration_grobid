{
 "cells": [
  {
   "cell_type": "markdown",
   "id": "3ca9340e",
   "metadata": {},
   "source": [
    "# Data extraction evaluation : ROUGE and BERTscore"
   ]
  },
  {
   "cell_type": "markdown",
   "id": "567d100f",
   "metadata": {},
   "source": [
    "## ROUGE \n",
    "https://thepythoncode.com/article/calculate-rouge-score-in-python"
   ]
  },
  {
   "cell_type": "code",
   "execution_count": null,
   "id": "884e225e",
   "metadata": {},
   "outputs": [],
   "source": [
    "import pandas as pd\n",
    "from rouge_score import rouge_scorer\n",
    "\n",
    "scorer = rouge_scorer.RougeScorer(['rouge1'])\n",
    "\n",
    "candidate_summary = \"the cat was found under the bed\"\n",
    "reference_summary = \"the cat was under the bed\"\n",
    "\n",
    "scores = scorer.score(reference_summary, candidate_summary)\n",
    "for key in scores:\n",
    "    print(f'{key}: {scores[key]}')"
   ]
  },
  {
   "cell_type": "code",
   "execution_count": null,
   "id": "5b240794",
   "metadata": {},
   "outputs": [],
   "source": [
    "reference_study = 'Liu_Shao_2024'\n",
    "ground_truth = pd.read_excel(f'../ground_truth/test_set/{reference_study.lower()}.xlsx')\n",
    "ground_truth"
   ]
  },
  {
   "cell_type": "code",
   "execution_count": null,
   "id": "336271bb",
   "metadata": {},
   "outputs": [],
   "source": [
    "mistral_extraction = pd.read_csv(f'../llm-based_extraction/mistral-small-2503/specific_extraction_{reference_study}.csv')\n",
    "mistral_extraction = mistral_extraction[['study', 'Analysis method', 'Data sources', 'Participants', 'Participant size']]\n",
    "mistral_extraction"
   ]
  },
  {
   "cell_type": "code",
   "execution_count": null,
   "id": "1d8e27c1",
   "metadata": {},
   "outputs": [],
   "source": [
    "ground_truth = ground_truth.to_dict('records')\n",
    "\n",
    "results = []\n",
    "for study in ground_truth:\n",
    "    for data_element in list(study.keys())[1:]:\n",
    "        reference = str(study[data_element]).lower()\n",
    "        candidate = str(mistral_extraction[mistral_extraction['study'] == study['Authors']][data_element].tolist()[0]).lower()\n",
    "        scores = scorer.score(reference_summary, candidate_summary)\n",
    "        "
   ]
  },
  {
   "cell_type": "markdown",
   "id": "c86326ea",
   "metadata": {},
   "source": [
    "## BERT-Score"
   ]
  },
  {
   "cell_type": "markdown",
   "id": "7bf91cf7",
   "metadata": {},
   "source": []
  }
 ],
 "metadata": {
  "kernelspec": {
   "display_name": "env",
   "language": "python",
   "name": "python3"
  },
  "language_info": {
   "codemirror_mode": {
    "name": "ipython",
    "version": 3
   },
   "file_extension": ".py",
   "mimetype": "text/x-python",
   "name": "python",
   "nbconvert_exporter": "python",
   "pygments_lexer": "ipython3",
   "version": "3.11.4"
  }
 },
 "nbformat": 4,
 "nbformat_minor": 5
}
