{
 "cells": [
  {
   "cell_type": "markdown",
   "id": "3ca9340e",
   "metadata": {},
   "source": [
    "# Data extraction evaluation : ROUGE and BERTscore"
   ]
  },
  {
   "cell_type": "markdown",
   "id": "567d100f",
   "metadata": {},
   "source": [
    "## ROUGE \n",
    "https://thepythoncode.com/article/calculate-rouge-score-in-python"
   ]
  },
  {
   "cell_type": "code",
   "execution_count": 1,
   "id": "884e225e",
   "metadata": {},
   "outputs": [],
   "source": [
    "import pandas as pd\n",
    "import statistics\n",
    "from rouge_score import rouge_scorer\n",
    "\n",
    "scorer = rouge_scorer.RougeScorer(['rouge1'])"
   ]
  },
  {
   "cell_type": "code",
   "execution_count": 2,
   "id": "5b240794",
   "metadata": {},
   "outputs": [],
   "source": [
    "reference_studies = ['Liu_Shao_2024', 'Safdar_Siddique_Khan_2024', 'Shahzad_Khan_2023']\n",
    "models = ['mistral-small-2503', 'gpt-4o-mini']"
   ]
  },
  {
   "cell_type": "code",
   "execution_count": 3,
   "id": "336271bb",
   "metadata": {},
   "outputs": [],
   "source": [
    "results = []\n",
    "for model in models:\n",
    "    for reference_study in reference_studies:\n",
    "        ground_truth = pd.read_excel(f'../ground_truth/test_set/{reference_study.lower()}.xlsx')\n",
    "        ground_truth = ground_truth.rename(columns={'Study': 'study', 'Authors': 'study'})\n",
    "\n",
    "        llm_extraction = pd.read_csv(f'../llm-based_extraction/{model}/specific_extraction_{reference_study}.csv')\n",
    "        llm_extraction = llm_extraction.rename(columns={'Method': 'Methodology'})\n",
    "        llm_extraction = llm_extraction.rename(columns={\"Relation between Motivation and Librarians' PD\": \"Relation between motivation and librarian's PD\"})\n",
    "        llm_extraction = llm_extraction[[x for x in llm_extraction.columns if x in ground_truth.columns]]\n",
    "\n",
    "        for data_element in ground_truth.columns[1:]:\n",
    "            precision, recall, fmeasure = 0, 0, 0 # initialisation\n",
    "\n",
    "            for study in ground_truth['study'].unique():\n",
    "                reference = str(ground_truth[ground_truth['study'] == study][data_element].tolist()[0]).lower()\n",
    "                candidate = str(llm_extraction[llm_extraction['study'] == study][data_element].tolist()[0]).lower()\n",
    "                \n",
    "                scores = scorer.score(reference, candidate)\n",
    "                precision += scores['rouge1'].precision\n",
    "                recall += scores['rouge1'].recall\n",
    "                fmeasure += scores['rouge1'].fmeasure\n",
    "\n",
    "            # On moyenne les score en fonction du nombre d'études\n",
    "            precision = precision/len(ground_truth)\n",
    "            recall = recall/len(ground_truth)\n",
    "            fmeasure = fmeasure/len(ground_truth)\n",
    "\n",
    "            # On ajoute au tableau de résultats\n",
    "            results.append({\n",
    "                'model' : model,\n",
    "                'reference_study' : reference_study,\n",
    "                'data_element' : data_element,\n",
    "                'ROUGE-precision' : precision,\n",
    "                'ROUGE-recall' : recall,\n",
    "                'ROUGE-Fmeasure' : fmeasure\n",
    "            })\n",
    "\n",
    "results = pd.DataFrame(results)"
   ]
  },
  {
   "cell_type": "code",
   "execution_count": 4,
   "id": "b53ad089",
   "metadata": {},
   "outputs": [
    {
     "data": {
      "text/html": [
       "<div>\n",
       "<style scoped>\n",
       "    .dataframe tbody tr th:only-of-type {\n",
       "        vertical-align: middle;\n",
       "    }\n",
       "\n",
       "    .dataframe tbody tr th {\n",
       "        vertical-align: top;\n",
       "    }\n",
       "\n",
       "    .dataframe thead th {\n",
       "        text-align: right;\n",
       "    }\n",
       "</style>\n",
       "<table border=\"1\" class=\"dataframe\">\n",
       "  <thead>\n",
       "    <tr style=\"text-align: right;\">\n",
       "      <th></th>\n",
       "      <th>model</th>\n",
       "      <th>reference_study</th>\n",
       "      <th>data_element</th>\n",
       "      <th>ROUGE-precision</th>\n",
       "      <th>ROUGE-recall</th>\n",
       "      <th>ROUGE-Fmeasure</th>\n",
       "    </tr>\n",
       "  </thead>\n",
       "  <tbody>\n",
       "    <tr>\n",
       "      <th>0</th>\n",
       "      <td>mistral-small-2503</td>\n",
       "      <td>Liu_Shao_2024</td>\n",
       "      <td>Analysis method</td>\n",
       "      <td>0.416667</td>\n",
       "      <td>0.416667</td>\n",
       "      <td>0.416667</td>\n",
       "    </tr>\n",
       "    <tr>\n",
       "      <th>1</th>\n",
       "      <td>mistral-small-2503</td>\n",
       "      <td>Liu_Shao_2024</td>\n",
       "      <td>Data sources</td>\n",
       "      <td>0.201691</td>\n",
       "      <td>0.311111</td>\n",
       "      <td>0.217923</td>\n",
       "    </tr>\n",
       "    <tr>\n",
       "      <th>2</th>\n",
       "      <td>mistral-small-2503</td>\n",
       "      <td>Liu_Shao_2024</td>\n",
       "      <td>Participants</td>\n",
       "      <td>0.165562</td>\n",
       "      <td>0.169222</td>\n",
       "      <td>0.148856</td>\n",
       "    </tr>\n",
       "    <tr>\n",
       "      <th>3</th>\n",
       "      <td>mistral-small-2503</td>\n",
       "      <td>Liu_Shao_2024</td>\n",
       "      <td>Participant size</td>\n",
       "      <td>0.333333</td>\n",
       "      <td>0.333333</td>\n",
       "      <td>0.333333</td>\n",
       "    </tr>\n",
       "    <tr>\n",
       "      <th>4</th>\n",
       "      <td>mistral-small-2503</td>\n",
       "      <td>Safdar_Siddique_Khan_2024</td>\n",
       "      <td>Country</td>\n",
       "      <td>0.684524</td>\n",
       "      <td>0.785714</td>\n",
       "      <td>0.707143</td>\n",
       "    </tr>\n",
       "    <tr>\n",
       "      <th>5</th>\n",
       "      <td>mistral-small-2503</td>\n",
       "      <td>Safdar_Siddique_Khan_2024</td>\n",
       "      <td>Population</td>\n",
       "      <td>0.163896</td>\n",
       "      <td>0.303571</td>\n",
       "      <td>0.182720</td>\n",
       "    </tr>\n",
       "    <tr>\n",
       "      <th>6</th>\n",
       "      <td>mistral-small-2503</td>\n",
       "      <td>Safdar_Siddique_Khan_2024</td>\n",
       "      <td>Sample size and tech</td>\n",
       "      <td>0.481037</td>\n",
       "      <td>0.573129</td>\n",
       "      <td>0.513872</td>\n",
       "    </tr>\n",
       "    <tr>\n",
       "      <th>7</th>\n",
       "      <td>mistral-small-2503</td>\n",
       "      <td>Safdar_Siddique_Khan_2024</td>\n",
       "      <td>Tool</td>\n",
       "      <td>0.267857</td>\n",
       "      <td>0.357143</td>\n",
       "      <td>0.290476</td>\n",
       "    </tr>\n",
       "    <tr>\n",
       "      <th>8</th>\n",
       "      <td>mistral-small-2503</td>\n",
       "      <td>Safdar_Siddique_Khan_2024</td>\n",
       "      <td>Methodology</td>\n",
       "      <td>0.571429</td>\n",
       "      <td>0.571429</td>\n",
       "      <td>0.571429</td>\n",
       "    </tr>\n",
       "    <tr>\n",
       "      <th>9</th>\n",
       "      <td>mistral-small-2503</td>\n",
       "      <td>Shahzad_Khan_2023</td>\n",
       "      <td>Country</td>\n",
       "      <td>0.800000</td>\n",
       "      <td>0.800000</td>\n",
       "      <td>0.800000</td>\n",
       "    </tr>\n",
       "    <tr>\n",
       "      <th>10</th>\n",
       "      <td>mistral-small-2503</td>\n",
       "      <td>Shahzad_Khan_2023</td>\n",
       "      <td>Motivational factors toward PD</td>\n",
       "      <td>0.202772</td>\n",
       "      <td>0.335501</td>\n",
       "      <td>0.229144</td>\n",
       "    </tr>\n",
       "    <tr>\n",
       "      <th>11</th>\n",
       "      <td>mistral-small-2503</td>\n",
       "      <td>Shahzad_Khan_2023</td>\n",
       "      <td>Relation between motivation and librarian's PD</td>\n",
       "      <td>0.077778</td>\n",
       "      <td>0.069841</td>\n",
       "      <td>0.071605</td>\n",
       "    </tr>\n",
       "    <tr>\n",
       "      <th>12</th>\n",
       "      <td>mistral-small-2503</td>\n",
       "      <td>Shahzad_Khan_2023</td>\n",
       "      <td>Challenges in implementation of PD activities</td>\n",
       "      <td>0.410562</td>\n",
       "      <td>0.511199</td>\n",
       "      <td>0.409836</td>\n",
       "    </tr>\n",
       "  </tbody>\n",
       "</table>\n",
       "</div>"
      ],
      "text/plain": [
       "                 model            reference_study  \\\n",
       "0   mistral-small-2503              Liu_Shao_2024   \n",
       "1   mistral-small-2503              Liu_Shao_2024   \n",
       "2   mistral-small-2503              Liu_Shao_2024   \n",
       "3   mistral-small-2503              Liu_Shao_2024   \n",
       "4   mistral-small-2503  Safdar_Siddique_Khan_2024   \n",
       "5   mistral-small-2503  Safdar_Siddique_Khan_2024   \n",
       "6   mistral-small-2503  Safdar_Siddique_Khan_2024   \n",
       "7   mistral-small-2503  Safdar_Siddique_Khan_2024   \n",
       "8   mistral-small-2503  Safdar_Siddique_Khan_2024   \n",
       "9   mistral-small-2503          Shahzad_Khan_2023   \n",
       "10  mistral-small-2503          Shahzad_Khan_2023   \n",
       "11  mistral-small-2503          Shahzad_Khan_2023   \n",
       "12  mistral-small-2503          Shahzad_Khan_2023   \n",
       "\n",
       "                                      data_element  ROUGE-precision  \\\n",
       "0                                  Analysis method         0.416667   \n",
       "1                                     Data sources         0.201691   \n",
       "2                                     Participants         0.165562   \n",
       "3                                 Participant size         0.333333   \n",
       "4                                          Country         0.684524   \n",
       "5                                       Population         0.163896   \n",
       "6                             Sample size and tech         0.481037   \n",
       "7                                             Tool         0.267857   \n",
       "8                                      Methodology         0.571429   \n",
       "9                                          Country         0.800000   \n",
       "10                  Motivational factors toward PD         0.202772   \n",
       "11  Relation between motivation and librarian's PD         0.077778   \n",
       "12   Challenges in implementation of PD activities         0.410562   \n",
       "\n",
       "    ROUGE-recall  ROUGE-Fmeasure  \n",
       "0       0.416667        0.416667  \n",
       "1       0.311111        0.217923  \n",
       "2       0.169222        0.148856  \n",
       "3       0.333333        0.333333  \n",
       "4       0.785714        0.707143  \n",
       "5       0.303571        0.182720  \n",
       "6       0.573129        0.513872  \n",
       "7       0.357143        0.290476  \n",
       "8       0.571429        0.571429  \n",
       "9       0.800000        0.800000  \n",
       "10      0.335501        0.229144  \n",
       "11      0.069841        0.071605  \n",
       "12      0.511199        0.409836  "
      ]
     },
     "execution_count": 4,
     "metadata": {},
     "output_type": "execute_result"
    }
   ],
   "source": [
    "mistral = results[results['model'] == 'mistral-small-2503']\n",
    "mistral"
   ]
  },
  {
   "cell_type": "code",
   "execution_count": 5,
   "id": "a40f14cc",
   "metadata": {},
   "outputs": [
    {
     "data": {
      "text/plain": [
       "np.float64(0.3674697463689777)"
      ]
     },
     "execution_count": 5,
     "metadata": {},
     "output_type": "execute_result"
    }
   ],
   "source": [
    "mistral['ROUGE-precision'].mean()"
   ]
  },
  {
   "cell_type": "code",
   "execution_count": 6,
   "id": "6b36d0ef",
   "metadata": {},
   "outputs": [
    {
     "data": {
      "text/plain": [
       "np.float64(0.425989248623261)"
      ]
     },
     "execution_count": 6,
     "metadata": {},
     "output_type": "execute_result"
    }
   ],
   "source": [
    "mistral['ROUGE-recall'].mean()"
   ]
  },
  {
   "cell_type": "code",
   "execution_count": 7,
   "id": "51dad4b8",
   "metadata": {},
   "outputs": [
    {
     "data": {
      "text/plain": [
       "np.float64(0.3763849145417449)"
      ]
     },
     "execution_count": 7,
     "metadata": {},
     "output_type": "execute_result"
    }
   ],
   "source": [
    "mistral['ROUGE-Fmeasure'].mean()"
   ]
  },
  {
   "cell_type": "code",
   "execution_count": 8,
   "id": "582cb016",
   "metadata": {},
   "outputs": [
    {
     "data": {
      "text/html": [
       "<div>\n",
       "<style scoped>\n",
       "    .dataframe tbody tr th:only-of-type {\n",
       "        vertical-align: middle;\n",
       "    }\n",
       "\n",
       "    .dataframe tbody tr th {\n",
       "        vertical-align: top;\n",
       "    }\n",
       "\n",
       "    .dataframe thead th {\n",
       "        text-align: right;\n",
       "    }\n",
       "</style>\n",
       "<table border=\"1\" class=\"dataframe\">\n",
       "  <thead>\n",
       "    <tr style=\"text-align: right;\">\n",
       "      <th></th>\n",
       "      <th>model</th>\n",
       "      <th>reference_study</th>\n",
       "      <th>data_element</th>\n",
       "      <th>ROUGE-precision</th>\n",
       "      <th>ROUGE-recall</th>\n",
       "      <th>ROUGE-Fmeasure</th>\n",
       "    </tr>\n",
       "  </thead>\n",
       "  <tbody>\n",
       "    <tr>\n",
       "      <th>13</th>\n",
       "      <td>gpt-4o-mini</td>\n",
       "      <td>Liu_Shao_2024</td>\n",
       "      <td>Analysis method</td>\n",
       "      <td>0.500000</td>\n",
       "      <td>0.500000</td>\n",
       "      <td>0.500000</td>\n",
       "    </tr>\n",
       "    <tr>\n",
       "      <th>14</th>\n",
       "      <td>gpt-4o-mini</td>\n",
       "      <td>Liu_Shao_2024</td>\n",
       "      <td>Data sources</td>\n",
       "      <td>0.099839</td>\n",
       "      <td>0.227778</td>\n",
       "      <td>0.136905</td>\n",
       "    </tr>\n",
       "    <tr>\n",
       "      <th>15</th>\n",
       "      <td>gpt-4o-mini</td>\n",
       "      <td>Liu_Shao_2024</td>\n",
       "      <td>Participants</td>\n",
       "      <td>0.152844</td>\n",
       "      <td>0.203944</td>\n",
       "      <td>0.167659</td>\n",
       "    </tr>\n",
       "    <tr>\n",
       "      <th>16</th>\n",
       "      <td>gpt-4o-mini</td>\n",
       "      <td>Liu_Shao_2024</td>\n",
       "      <td>Participant size</td>\n",
       "      <td>0.500000</td>\n",
       "      <td>0.500000</td>\n",
       "      <td>0.500000</td>\n",
       "    </tr>\n",
       "    <tr>\n",
       "      <th>17</th>\n",
       "      <td>gpt-4o-mini</td>\n",
       "      <td>Safdar_Siddique_Khan_2024</td>\n",
       "      <td>Country</td>\n",
       "      <td>0.738095</td>\n",
       "      <td>0.785714</td>\n",
       "      <td>0.750000</td>\n",
       "    </tr>\n",
       "    <tr>\n",
       "      <th>18</th>\n",
       "      <td>gpt-4o-mini</td>\n",
       "      <td>Safdar_Siddique_Khan_2024</td>\n",
       "      <td>Population</td>\n",
       "      <td>0.068651</td>\n",
       "      <td>0.321429</td>\n",
       "      <td>0.111322</td>\n",
       "    </tr>\n",
       "    <tr>\n",
       "      <th>19</th>\n",
       "      <td>gpt-4o-mini</td>\n",
       "      <td>Safdar_Siddique_Khan_2024</td>\n",
       "      <td>Sample size and tech</td>\n",
       "      <td>0.377551</td>\n",
       "      <td>0.445578</td>\n",
       "      <td>0.401361</td>\n",
       "    </tr>\n",
       "    <tr>\n",
       "      <th>20</th>\n",
       "      <td>gpt-4o-mini</td>\n",
       "      <td>Safdar_Siddique_Khan_2024</td>\n",
       "      <td>Tool</td>\n",
       "      <td>0.077381</td>\n",
       "      <td>0.238095</td>\n",
       "      <td>0.112472</td>\n",
       "    </tr>\n",
       "    <tr>\n",
       "      <th>21</th>\n",
       "      <td>gpt-4o-mini</td>\n",
       "      <td>Safdar_Siddique_Khan_2024</td>\n",
       "      <td>Methodology</td>\n",
       "      <td>0.392857</td>\n",
       "      <td>0.428571</td>\n",
       "      <td>0.404762</td>\n",
       "    </tr>\n",
       "    <tr>\n",
       "      <th>22</th>\n",
       "      <td>gpt-4o-mini</td>\n",
       "      <td>Shahzad_Khan_2023</td>\n",
       "      <td>Country</td>\n",
       "      <td>0.800000</td>\n",
       "      <td>0.800000</td>\n",
       "      <td>0.800000</td>\n",
       "    </tr>\n",
       "    <tr>\n",
       "      <th>23</th>\n",
       "      <td>gpt-4o-mini</td>\n",
       "      <td>Shahzad_Khan_2023</td>\n",
       "      <td>Motivational factors toward PD</td>\n",
       "      <td>0.109369</td>\n",
       "      <td>0.152242</td>\n",
       "      <td>0.114785</td>\n",
       "    </tr>\n",
       "    <tr>\n",
       "      <th>24</th>\n",
       "      <td>gpt-4o-mini</td>\n",
       "      <td>Shahzad_Khan_2023</td>\n",
       "      <td>Relation between motivation and librarian's PD</td>\n",
       "      <td>0.063899</td>\n",
       "      <td>0.096667</td>\n",
       "      <td>0.063195</td>\n",
       "    </tr>\n",
       "    <tr>\n",
       "      <th>25</th>\n",
       "      <td>gpt-4o-mini</td>\n",
       "      <td>Shahzad_Khan_2023</td>\n",
       "      <td>Challenges in implementation of PD activities</td>\n",
       "      <td>0.154589</td>\n",
       "      <td>0.148277</td>\n",
       "      <td>0.146451</td>\n",
       "    </tr>\n",
       "  </tbody>\n",
       "</table>\n",
       "</div>"
      ],
      "text/plain": [
       "          model            reference_study  \\\n",
       "13  gpt-4o-mini              Liu_Shao_2024   \n",
       "14  gpt-4o-mini              Liu_Shao_2024   \n",
       "15  gpt-4o-mini              Liu_Shao_2024   \n",
       "16  gpt-4o-mini              Liu_Shao_2024   \n",
       "17  gpt-4o-mini  Safdar_Siddique_Khan_2024   \n",
       "18  gpt-4o-mini  Safdar_Siddique_Khan_2024   \n",
       "19  gpt-4o-mini  Safdar_Siddique_Khan_2024   \n",
       "20  gpt-4o-mini  Safdar_Siddique_Khan_2024   \n",
       "21  gpt-4o-mini  Safdar_Siddique_Khan_2024   \n",
       "22  gpt-4o-mini          Shahzad_Khan_2023   \n",
       "23  gpt-4o-mini          Shahzad_Khan_2023   \n",
       "24  gpt-4o-mini          Shahzad_Khan_2023   \n",
       "25  gpt-4o-mini          Shahzad_Khan_2023   \n",
       "\n",
       "                                      data_element  ROUGE-precision  \\\n",
       "13                                 Analysis method         0.500000   \n",
       "14                                    Data sources         0.099839   \n",
       "15                                    Participants         0.152844   \n",
       "16                                Participant size         0.500000   \n",
       "17                                         Country         0.738095   \n",
       "18                                      Population         0.068651   \n",
       "19                            Sample size and tech         0.377551   \n",
       "20                                            Tool         0.077381   \n",
       "21                                     Methodology         0.392857   \n",
       "22                                         Country         0.800000   \n",
       "23                  Motivational factors toward PD         0.109369   \n",
       "24  Relation between motivation and librarian's PD         0.063899   \n",
       "25   Challenges in implementation of PD activities         0.154589   \n",
       "\n",
       "    ROUGE-recall  ROUGE-Fmeasure  \n",
       "13      0.500000        0.500000  \n",
       "14      0.227778        0.136905  \n",
       "15      0.203944        0.167659  \n",
       "16      0.500000        0.500000  \n",
       "17      0.785714        0.750000  \n",
       "18      0.321429        0.111322  \n",
       "19      0.445578        0.401361  \n",
       "20      0.238095        0.112472  \n",
       "21      0.428571        0.404762  \n",
       "22      0.800000        0.800000  \n",
       "23      0.152242        0.114785  \n",
       "24      0.096667        0.063195  \n",
       "25      0.148277        0.146451  "
      ]
     },
     "execution_count": 8,
     "metadata": {},
     "output_type": "execute_result"
    }
   ],
   "source": [
    "gpt = results[results['model'] == 'gpt-4o-mini']\n",
    "gpt"
   ]
  },
  {
   "cell_type": "code",
   "execution_count": 9,
   "id": "36878ef9",
   "metadata": {},
   "outputs": [
    {
     "data": {
      "text/plain": [
       "np.float64(0.31039034826899137)"
      ]
     },
     "execution_count": 9,
     "metadata": {},
     "output_type": "execute_result"
    }
   ],
   "source": [
    "gpt['ROUGE-precision'].mean()"
   ]
  },
  {
   "cell_type": "code",
   "execution_count": 10,
   "id": "319d969d",
   "metadata": {},
   "outputs": [
    {
     "data": {
      "text/plain": [
       "np.float64(0.3729457315419524)"
      ]
     },
     "execution_count": 10,
     "metadata": {},
     "output_type": "execute_result"
    }
   ],
   "source": [
    "gpt['ROUGE-recall'].mean()"
   ]
  },
  {
   "cell_type": "code",
   "execution_count": 11,
   "id": "78977cc4",
   "metadata": {},
   "outputs": [
    {
     "data": {
      "text/plain": [
       "np.float64(0.3237623791320533)"
      ]
     },
     "execution_count": 11,
     "metadata": {},
     "output_type": "execute_result"
    }
   ],
   "source": [
    "gpt['ROUGE-Fmeasure'].mean()"
   ]
  },
  {
   "cell_type": "markdown",
   "id": "a9f4c458",
   "metadata": {},
   "source": [
    "## Cosine similarity"
   ]
  },
  {
   "cell_type": "code",
   "execution_count": 12,
   "id": "371348c4",
   "metadata": {},
   "outputs": [
    {
     "name": "stderr",
     "output_type": "stream",
     "text": [
      "c:\\Users\\p1115145\\Documents\\GitHub\\exploration_grobid\\env\\Lib\\site-packages\\tqdm\\auto.py:21: TqdmWarning: IProgress not found. Please update jupyter and ipywidgets. See https://ipywidgets.readthedocs.io/en/stable/user_install.html\n",
      "  from .autonotebook import tqdm as notebook_tqdm\n",
      "WARNING:tensorflow:From c:\\Users\\p1115145\\Documents\\GitHub\\exploration_grobid\\env\\Lib\\site-packages\\tf_keras\\src\\losses.py:2976: The name tf.losses.sparse_softmax_cross_entropy is deprecated. Please use tf.compat.v1.losses.sparse_softmax_cross_entropy instead.\n",
      "\n"
     ]
    }
   ],
   "source": [
    "from sentence_transformers import SentenceTransformer\n",
    "\n",
    "model = SentenceTransformer(\"all-MiniLM-L6-v2\")"
   ]
  },
  {
   "cell_type": "code",
   "execution_count": null,
   "id": "25ed7203",
   "metadata": {},
   "outputs": [],
   "source": []
  },
  {
   "cell_type": "markdown",
   "id": "c86326ea",
   "metadata": {},
   "source": [
    "## BERT-Score"
   ]
  },
  {
   "cell_type": "code",
   "execution_count": 13,
   "id": "694e7960",
   "metadata": {},
   "outputs": [],
   "source": [
    "# from evaluate import load\n",
    "# bertscore = load(\"bertscore\")"
   ]
  },
  {
   "cell_type": "code",
   "execution_count": 14,
   "id": "126dde69",
   "metadata": {},
   "outputs": [],
   "source": [
    "# results = []\n",
    "# for model in models:\n",
    "#     for reference_study in reference_studies:\n",
    "#         ground_truth = pd.read_excel(f'../ground_truth/test_set/{reference_study.lower()}.xlsx')\n",
    "#         ground_truth = ground_truth.rename(columns={'Study': 'study', 'Authors': 'study'})\n",
    "\n",
    "#         llm_extraction = pd.read_csv(f'../llm-based_extraction/{model}/specific_extraction_{reference_study}.csv')\n",
    "#         llm_extraction = llm_extraction.rename(columns={'Method': 'Methodology'})\n",
    "#         llm_extraction = llm_extraction.rename(columns={\"Relation between Motivation and Librarians' PD\": \"Relation between motivation and librarian's PD\"})\n",
    "#         llm_extraction = llm_extraction[[x for x in llm_extraction.columns if x in ground_truth.columns]]\n",
    "\n",
    "#         predictions = []\n",
    "#         references = []\n",
    "#         for data_element in ground_truth.columns[1:]:\n",
    "#             for study in ground_truth['study'].unique():\n",
    "#                 references.append(str(ground_truth[ground_truth['study'] == study][data_element].tolist()[0]).lower())\n",
    "#                 predictions.append(str(llm_extraction[llm_extraction['study'] == study][data_element].tolist()[0]).lower())\n",
    "                \n",
    "#             scores = bertscore.compute(predictions=predictions, references=references, model_type=\"roberta-large\", lang=\"en-sci\")\n",
    "\n",
    "#             # On moyenne les score en fonction du nombre d'études\n",
    "#             precision = statistics.mean(scores['precision'])\n",
    "#             recall = statistics.mean(scores['recall'])\n",
    "#             fmeasure = statistics.mean(scores['f1'])\n",
    "\n",
    "#             # On ajoute au tableau de résultats\n",
    "#             results.append({\n",
    "#                 'model' : model,\n",
    "#                 'reference_study' : reference_study,\n",
    "#                 'data_element' : data_element,\n",
    "#                 'BERTScore-precision' : precision,\n",
    "#                 'BERTScore-recall' : recall,\n",
    "#                 'BERTScore-F1' : fmeasure\n",
    "#             })\n",
    "\n",
    "# results = pd.DataFrame(results)"
   ]
  },
  {
   "cell_type": "code",
   "execution_count": 15,
   "id": "bd2abe80",
   "metadata": {},
   "outputs": [],
   "source": [
    "# mistral = results[results['model'] == 'mistral-small-2503']\n",
    "# mistral['BERTScore-precision'].mean()"
   ]
  }
 ],
 "metadata": {
  "kernelspec": {
   "display_name": "env",
   "language": "python",
   "name": "python3"
  },
  "language_info": {
   "codemirror_mode": {
    "name": "ipython",
    "version": 3
   },
   "file_extension": ".py",
   "mimetype": "text/x-python",
   "name": "python",
   "nbconvert_exporter": "python",
   "pygments_lexer": "ipython3",
   "version": "3.11.4"
  }
 },
 "nbformat": 4,
 "nbformat_minor": 5
}
