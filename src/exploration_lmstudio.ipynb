{
 "cells": [
  {
   "cell_type": "markdown",
   "metadata": {},
   "source": [
    "https://lmstudio.ai/model/mistral-7b-instruct-v0.3"
   ]
  },
  {
   "cell_type": "code",
   "execution_count": null,
   "metadata": {},
   "outputs": [],
   "source": [
    "import lmstudio as lms\n",
    "\n",
    "mistral = lms.llm('mistral-7b-instruct-v0.2')\n",
    "mistral"
   ]
  },
  {
   "cell_type": "code",
   "execution_count": null,
   "metadata": {},
   "outputs": [],
   "source": [
    "context_length = mistral.get_context_length()\n",
    "context_length"
   ]
  },
  {
   "cell_type": "code",
   "execution_count": null,
   "metadata": {},
   "outputs": [],
   "source": [
    "# import lmstudio as lms\n",
    "\n",
    "# mistral = lms.llm('mistral-7b-instruct-v0.2')\n",
    "\n",
    "# context_length = mistral.get_context_length() # 32 768\n",
    "\n",
    "# sample_text_path = '../txts/Ilani_Nowkarizi_Arastoopoor_2024/azzopardi-et-al-2011-report-on.txt'\n",
    "# with open(sample_text_path, encoding='utf-8') as f:\n",
    "#     sample_text = f.read()\n",
    "\n",
    "# result = mistral.respond(\n",
    "#     f\"State the main objective of this paper in a single sentence : {sample_text}\",\n",
    "#     config={\n",
    "#         \"maxTokens\": 50,\n",
    "#         \"temperature\": 0.06,\n",
    "#     },    \n",
    "# )\n",
    "\n",
    "# print(result)"
   ]
  },
  {
   "cell_type": "markdown",
   "metadata": {},
   "source": [
    "*Using OpennAI client code*"
   ]
  },
  {
   "cell_type": "code",
   "execution_count": null,
   "metadata": {},
   "outputs": [],
   "source": [
    "# Example: reuse your existing OpenAI client code\n",
    "# Change the baseUrl to point to LM Studio\n",
    "from openai import OpenAI\n",
    "\n",
    "# Point to the local server\n",
    "mistral_client = OpenAI(\n",
    "    base_url=\"http://localhost:1234/v1\",\n",
    "    api_key=\"lm-studio\"\n",
    ")\n",
    "\n",
    "completion = mistral_client.chat.completions.create(\n",
    "  model=\"mistral-7b\",\n",
    "  messages=[\n",
    "    {\"role\": \"system\", \"content\": \"Always answer in JSON.\"},\n",
    "    {\"role\": \"user\", \"content\": \"Introduce yourself.\"}\n",
    "  ],\n",
    "  temperature=0.7,\n",
    ")\n",
    "\n",
    "print(completion.choices[0].message)\n"
   ]
  },
  {
   "cell_type": "code",
   "execution_count": null,
   "metadata": {},
   "outputs": [],
   "source": [
    "## ATTENTION : CECI EST PAYANT (frais à OpenAI pour chaque x tokens envoyés / reçus)\n",
    "\n",
    "from config import OPEN_AI_API_KEY\n",
    "\n",
    "gpt4o_client = OpenAI(\n",
    "    base_url=\"https://api.openai.com/v1\",\n",
    "    api_key= OPEN_AI_API_KEY\n",
    ")\n",
    "\n",
    "response = gpt4o_client.chat.completions.create(\n",
    "    model=\"gpt-4o-mini\",  # or \"gpt-4o-mini\" if available\n",
    "    temperature=0.3,  # lower = more deterministic\n",
    "    messages=[\n",
    "        {\"role\": \"system\", \"content\": \"You must answer without any capital letters.\"},\n",
    "        {\"role\": \"user\", \"content\": \"What's the capital of France?\"}\n",
    "    ]\n",
    ")"
   ]
  },
  {
   "cell_type": "code",
   "execution_count": null,
   "metadata": {},
   "outputs": [],
   "source": [
    "print(\"GPT-4o says:\", response.choices[0].message) "
   ]
  }
 ],
 "metadata": {
  "kernelspec": {
   "display_name": "env",
   "language": "python",
   "name": "python3"
  },
  "language_info": {
   "codemirror_mode": {
    "name": "ipython",
    "version": 3
   },
   "file_extension": ".py",
   "mimetype": "text/x-python",
   "name": "python",
   "nbconvert_exporter": "python",
   "pygments_lexer": "ipython3",
   "version": "3.11.0"
  }
 },
 "nbformat": 4,
 "nbformat_minor": 2
}
