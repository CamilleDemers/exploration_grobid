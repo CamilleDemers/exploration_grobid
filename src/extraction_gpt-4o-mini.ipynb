{
 "cells": [
  {
   "cell_type": "markdown",
   "metadata": {},
   "source": [
    "### LLM-based data extraction from scientific papers using GPT4o-mini"
   ]
  },
  {
   "cell_type": "code",
   "execution_count": null,
   "metadata": {},
   "outputs": [],
   "source": [
    "from config import OPEN_AI_API_KEY\n",
    "from openai import OpenAI\n",
    "import pandas as pd\n",
    "import json\n",
    "import time\n",
    "\n",
    "model = 'gpt-4o-mini-2024-07-18'\n",
    "client = OpenAI(api_key=OPEN_AI_API_KEY)"
   ]
  },
  {
   "cell_type": "code",
   "execution_count": null,
   "metadata": {},
   "outputs": [],
   "source": [
    "rs = '' # À spécifier avant d'exécuter (revue systématique de référence)\n",
    "studies = pd.read_csv(f'../csvs/{rs}.csv')\n",
    "studies = studies[studies['oa_status'] == True]\n",
    "studies.head()"
   ]
  },
  {
   "cell_type": "code",
   "execution_count": null,
   "metadata": {},
   "outputs": [],
   "source": [
    "studies = studies.to_dict('records')"
   ]
  },
  {
   "cell_type": "code",
   "execution_count": null,
   "metadata": {},
   "outputs": [],
   "source": [
    "with open('utils/data_elements_doco.txt') as f:\n",
    "    data_elements_doco = f.read()\n",
    "\n",
    "with open(f'utils/data_elements_{rs}.txt') as f:\n",
    "    specific_data_elements = f.read()"
   ]
  },
  {
   "cell_type": "code",
   "execution_count": null,
   "metadata": {},
   "outputs": [],
   "source": [
    "system_prompt = f\"\"\"\n",
    "    - You are an expert in data extraction for literature reviews in the social sciences.\\n\n",
    "    - You extract data from the paper provided by the user, based on the data elements specified below:\\n\n",
    "    {specific_data_elements}.\n",
    "\n",
    "    - The data extracted should be a few keywords only, no full sentences.\\n\n",
    "    - Return the annotated paper into a valid JSON object, with one field for each data element.\\n\n",
    "\n",
    "    If the information from a specific data element is not available in the paper, simply return NA for that element.\\n\n",
    "    Return the data as closely as they appear in the original paper.\\n\n",
    "    Do not include information outside the given paper. Do not make up an answer if the information is not available.\n",
    "\"\"\""
   ]
  },
  {
   "cell_type": "code",
   "execution_count": null,
   "metadata": {},
   "outputs": [],
   "source": [
    "system_prompt_doco = f\"\"\"\n",
    "    - You are an expert at extracting semantic information extraction from scientific papers.\\n\n",
    "    - You extract data from the paper provided by the user, based on the classes of the Discourse Elements Ontology (DEO) specified below:\\n \n",
    "    {data_elements_doco}.\n",
    "\n",
    "    - The data extracted should be a few keywords or a very short summarized sentence, but no full sentences.\\n\n",
    "    - Return the annotated paper into a valid JSON object with one field for each DEO element.\\n\n",
    "\n",
    "    If the information from a specific data class is not available in the paper, simply return NA for that element.\\n\n",
    "    Return the data as closely as they appear in the original paper.\\n\n",
    "    Do not include information outside the given paper. Do not make up an answer if the information is not available.\n",
    "\"\"\""
   ]
  },
  {
   "cell_type": "code",
   "execution_count": null,
   "metadata": {},
   "outputs": [],
   "source": [
    "data_extraction = [] \n",
    "for study in studies:\n",
    "    user_prompt = f\"Paper to annotate: {study['body']}\"\n",
    "\n",
    "    chat_response = client.chat.completions.create(\n",
    "        model=model,\n",
    "        messages=[\n",
    "            {\n",
    "                \"role\": \"developer\",\n",
    "                \"content\": system_prompt_doco\n",
    "            },\n",
    "            {\n",
    "                \"role\": \"user\",\n",
    "                \"content\": user_prompt\n",
    "            }\n",
    "        ],\n",
    "        response_format = {\n",
    "            \"type\": \"json_object\"\n",
    "        },\n",
    "        temperature=0.3 # same as mistral-small-2503's default temperature\n",
    "    )\n",
    "    study_data = {'study': study ['study']}\n",
    "    study_data.update(json.loads(chat_response.choices[0].message.content))\n",
    "\n",
    "    data_extraction.append(study_data)\n",
    "    time.sleep(2)\n",
    "\n",
    "data_extraction = pd.DataFrame(data_extraction)\n",
    "data_extraction.to_csv(f'../llm-based_extraction/gpt-4o-mini/doco_extraction_{rs}.csv', index=False)"
   ]
  },
  {
   "cell_type": "code",
   "execution_count": null,
   "metadata": {},
   "outputs": [],
   "source": [
    "data_extraction"
   ]
  }
 ],
 "metadata": {
  "kernelspec": {
   "display_name": "env",
   "language": "python",
   "name": "python3"
  },
  "language_info": {
   "codemirror_mode": {
    "name": "ipython",
    "version": 3
   },
   "file_extension": ".py",
   "mimetype": "text/x-python",
   "name": "python",
   "nbconvert_exporter": "python",
   "pygments_lexer": "ipython3",
   "version": "3.11.4"
  }
 },
 "nbformat": 4,
 "nbformat_minor": 2
}
