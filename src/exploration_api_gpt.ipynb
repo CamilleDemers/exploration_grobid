{
 "cells": [
  {
   "cell_type": "markdown",
   "metadata": {},
   "source": [
    "*Using OpennAI client code*"
   ]
  },
  {
   "cell_type": "code",
   "execution_count": null,
   "metadata": {},
   "outputs": [
    {
     "name": "stdout",
     "output_type": "stream",
     "text": [
      "ChatCompletionMessage(content=' {\\n\"name\": \"AI Assistant\",\\n\"role\": \"Interactive AI Model\",\\n\"greeting\": \"Hello and welcome! I\\'m here to help answer your questions or engage in a friendly conversation.\",\\n\"capabilities\": {\\n  \"text processing\": \"understanding and generating human-like text\",\\n  \"data retrieval\": \"accessing and providing information from various sources\",\\n  \"language translation\": \"communicating in multiple languages\",\\n  \"context awareness\": \"adapting to the conversation topic\"\\n}\\n}', refusal=None, role='assistant', annotations=None, audio=None, function_call=None, tool_calls=None)\n"
     ]
    }
   ],
   "source": [
    "# Example: reuse your existing OpenAI client code\n",
    "# Change the baseUrl to point to LM Studio\n",
    "from openai import OpenAI\n",
    "\n",
    "# Point to the local server\n",
    "mistral_client = OpenAI(\n",
    "    base_url=\"http://localhost:1234/v1\",\n",
    "    api_key=\"lm-studio\"\n",
    ")\n",
    "\n",
    "completion = mistral_client.chat.completions.create(\n",
    "  model=\"mistral-7b\",\n",
    "  messages=[\n",
    "    {\"role\": \"system\", \"content\": \"Always answer in JSON.\"},\n",
    "    {\"role\": \"user\", \"content\": \"Introduce yourself.\"}\n",
    "  ],\n",
    "  temperature=0.7,\n",
    ")\n",
    "\n",
    "print(completion.choices[0].message)\n"
   ]
  },
  {
   "cell_type": "code",
   "execution_count": null,
   "metadata": {},
   "outputs": [],
   "source": [
    "## ATTENTION : CECI EST PAYANT (frais à OpenAI pour chaque x tokens envoyés / reçus)\n",
    "\n",
    "from config import OPEN_AI_API_KEY\n",
    "\n",
    "gpt4o_client = OpenAI(\n",
    "    base_url=\"https://api.openai.com/v1\",\n",
    "    api_key= OPEN_AI_API_KEY\n",
    ")\n",
    "\n",
    "response = gpt4o_client.chat.completions.create(\n",
    "    model=\"gpt-4o-mini\",  # or \"gpt-4o-mini\" if available\n",
    "    temperature=0.3,  # lower = more deterministic\n",
    "    messages=[\n",
    "        {\"role\": \"system\", \"content\": \"You must answer without any capital letters.\"},\n",
    "        {\"role\": \"user\", \"content\": \"What's the capital of France?\"}\n",
    "    ]\n",
    ")"
   ]
  },
  {
   "cell_type": "code",
   "execution_count": 17,
   "metadata": {},
   "outputs": [
    {
     "name": "stdout",
     "output_type": "stream",
     "text": [
      "GPT-4o says: ChatCompletionMessage(content='the capital of france is paris.', refusal=None, role='assistant', annotations=[], audio=None, function_call=None, tool_calls=None)\n"
     ]
    },
    {
     "name": "stderr",
     "output_type": "stream",
     "text": [
      "{\"event\": \"Websocket failed, terminating session.\", \"thread_id\": \"Thread-3\", \"ws_url\": \"ws://localhost:1234/llm\"}\n",
      "Traceback (most recent call last):\n",
      "  File \"c:\\Users\\alexa\\Documents\\camille\\exploration_grobid\\env\\Lib\\site-packages\\lmstudio\\sync_api.py\", line 422, in _receive_messages\n",
      "    await self._process_next_message()\n",
      "  File \"c:\\Users\\alexa\\Documents\\camille\\exploration_grobid\\env\\Lib\\site-packages\\lmstudio\\sync_api.py\", line 389, in _process_next_message\n",
      "    message = await ws.receive_json()\n",
      "              ^^^^^^^^^^^^^^^^^^^^^^^\n",
      "  File \"c:\\Users\\alexa\\Documents\\camille\\exploration_grobid\\env\\Lib\\site-packages\\httpx_ws\\_api.py\", line 951, in receive_json\n",
      "    data = await self.receive_text(timeout)\n",
      "           ^^^^^^^^^^^^^^^^^^^^^^^^^^^^^^^^\n",
      "  File \"c:\\Users\\alexa\\Documents\\camille\\exploration_grobid\\env\\Lib\\site-packages\\httpx_ws\\_api.py\", line 861, in receive_text\n",
      "    event = await self.receive(timeout)\n",
      "            ^^^^^^^^^^^^^^^^^^^^^^^^^^^\n",
      "  File \"c:\\Users\\alexa\\Documents\\camille\\exploration_grobid\\env\\Lib\\site-packages\\httpx_ws\\_api.py\", line 821, in receive\n",
      "    raise event\n",
      "httpx_ws._exceptions.WebSocketNetworkError\n",
      "Stack (most recent call last):\n",
      "  File \"C:\\Users\\alexa\\AppData\\Local\\Programs\\Python\\Python311\\Lib\\threading.py\", line 995, in _bootstrap\n",
      "    self._bootstrap_inner()\n",
      "  File \"C:\\Users\\alexa\\AppData\\Local\\Programs\\Python\\Python311\\Lib\\threading.py\", line 1038, in _bootstrap_inner\n",
      "    self.run()\n",
      "  File \"c:\\Users\\alexa\\Documents\\camille\\exploration_grobid\\env\\Lib\\site-packages\\lmstudio\\sync_api.py\", line 287, in run\n",
      "    asyncio.run(self._main_task())\n",
      "  File \"C:\\Users\\alexa\\AppData\\Local\\Programs\\Python\\Python311\\Lib\\asyncio\\runners.py\", line 190, in run\n",
      "    return runner.run(main)\n",
      "  File \"C:\\Users\\alexa\\AppData\\Local\\Programs\\Python\\Python311\\Lib\\asyncio\\runners.py\", line 118, in run\n",
      "    return self._loop.run_until_complete(task)\n",
      "  File \"C:\\Users\\alexa\\AppData\\Local\\Programs\\Python\\Python311\\Lib\\asyncio\\base_events.py\", line 637, in run_until_complete\n",
      "    self.run_forever()\n",
      "  File \"C:\\Users\\alexa\\AppData\\Local\\Programs\\Python\\Python311\\Lib\\asyncio\\base_events.py\", line 604, in run_forever\n",
      "    self._run_once()\n",
      "  File \"C:\\Users\\alexa\\AppData\\Local\\Programs\\Python\\Python311\\Lib\\asyncio\\base_events.py\", line 1909, in _run_once\n",
      "    handle._run()\n",
      "  File \"C:\\Users\\alexa\\AppData\\Local\\Programs\\Python\\Python311\\Lib\\asyncio\\events.py\", line 80, in _run\n",
      "    self._context.run(self._callback, *self._args)\n",
      "  File \"c:\\Users\\alexa\\Documents\\camille\\exploration_grobid\\env\\Lib\\site-packages\\lmstudio\\sync_api.py\", line 426, in _receive_messages\n",
      "    self._logger.exception(\"Websocket failed, terminating session.\")\n"
     ]
    }
   ],
   "source": [
    "print(\"GPT-4o says:\", response.choices[0].message) "
   ]
  }
 ],
 "metadata": {
  "kernelspec": {
   "display_name": "env",
   "language": "python",
   "name": "python3"
  },
  "language_info": {
   "codemirror_mode": {
    "name": "ipython",
    "version": 3
   },
   "file_extension": ".py",
   "mimetype": "text/x-python",
   "name": "python",
   "nbconvert_exporter": "python",
   "pygments_lexer": "ipython3",
   "version": "3.11.9"
  }
 },
 "nbformat": 4,
 "nbformat_minor": 2
}
